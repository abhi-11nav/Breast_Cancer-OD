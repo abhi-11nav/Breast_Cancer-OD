{
  "nbformat": 4,
  "nbformat_minor": 0,
  "metadata": {
    "colab": {
      "provenance": [],
      "authorship_tag": "ABX9TyNiP78h0ayJEgYPSQXv+Uj0",
      "include_colab_link": true
    },
    "kernelspec": {
      "name": "python3",
      "display_name": "Python 3"
    },
    "language_info": {
      "name": "python"
    }
  },
  "cells": [
    {
      "cell_type": "markdown",
      "metadata": {
        "id": "view-in-github",
        "colab_type": "text"
      },
      "source": [
        "<a href=\"https://colab.research.google.com/github/abhi-11nav/Breast_Cancer-OD/blob/main/Breast_cancer_Object_detection.ipynb\" target=\"_parent\"><img src=\"https://colab.research.google.com/assets/colab-badge.svg\" alt=\"Open In Colab\"/></a>"
      ]
    },
    {
      "cell_type": "code",
      "execution_count": 1,
      "metadata": {
        "id": "k2wQmWN3I_zm"
      },
      "outputs": [],
      "source": [
        "# Importing necessary libraries\n",
        "\n",
        "import numpy as np\n",
        "import pandas as pd\n",
        "\n",
        "import tensorflow as tf \n",
        "from tensorflow import keras \n",
        "\n",
        "from keras.layers import Dense, Flatten, Conv2D, Input\n",
        "from keras.models import Model, Sequential "
      ]
    },
    {
      "cell_type": "code",
      "source": [
        "# Cloning the data repositorty\n",
        "\n"
      ],
      "metadata": {
        "id": "VO45RPZNJj0z"
      },
      "execution_count": null,
      "outputs": []
    }
  ]
}